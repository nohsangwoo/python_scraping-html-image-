{
 "cells": [
  {
   "cell_type": "code",
   "execution_count": 5,
   "metadata": {},
   "outputs": [
    {
     "name": "stdin",
     "output_type": "stream",
     "text": [
      "수집할 키워드를 입력하세요 :  손흥민\n"
     ]
    },
    {
     "name": "stdout",
     "output_type": "stream",
     "text": [
      "접속중\n"
     ]
    },
    {
     "name": "stderr",
     "output_type": "stream",
     "text": [
      "100%|███████████████████████████████████████████████████████████████████████████████| 150/150 [00:00<00:00, 166.52it/s]\n",
      "4it [00:00, 38.99it/s]"
     ]
    },
    {
     "name": "stdout",
     "output_type": "stream",
     "text": [
      "수집완료\n",
      "폴더생성\n",
      "다운로드중...\n"
     ]
    },
    {
     "name": "stderr",
     "output_type": "stream",
     "text": [
      "127it [00:03, 34.90it/s]\n"
     ]
    },
    {
     "name": "stdout",
     "output_type": "stream",
     "text": [
      "다운로드 완료\n",
      "['손흥민0.jpg', '손흥민1.png', '손흥민10.jpg', '손흥민100.jpg', '손흥민101.jpg', '손흥민102.jpg', '손흥민103.jpg', '손흥민104.jpg', '손흥민105.jpg', '손흥민106.jpg', '손흥민107.jpg', '손흥민108.jpg', '손흥민109.jpg', '손흥민11.png', '손흥민110.jpg', '손흥민111.jpg', '손흥민112.jpg', '손흥민113.jpg', '손흥민114.jpg', '손흥민115.jpg', '손흥민116.jpg', '손흥민117.jpg', '손흥민118.jpg', '손흥민119.jpg', '손흥민12.jpg', '손흥민120.jpg', '손흥민121.jpg', '손흥민122.png', '손흥민123.jpg', '손흥민124.jpg', '손흥민125.jpg', '손흥민126.jpg', '손흥민13.jpg', '손흥민14.jpg', '손흥민15.jpg', '손흥민16.jpg', '손흥민17.jpg', '손흥민18.jpg', '손흥민19.jpg', '손흥민2.jpg', '손흥민20.jpg', '손흥민21.jpg', '손흥민22.jpg', '손흥민23.jpeg', '손흥민24.png', '손흥민25.jpg', '손흥민26.jpg', '손흥민27.jpg', '손흥민28.jpg', '손흥민29.jpg', '손흥민3.jpg', '손흥민30.jpg', '손흥민31.jpg', '손흥민32.png', '손흥민33.jpg', '손흥민34.jpg', '손흥민35.jpeg', '손흥민36.jpg', '손흥민37.jpg', '손흥민38.jpg', '손흥민39.jpg', '손흥민4.jpg', '손흥민40.jpg', '손흥민41.jpg', '손흥민42.jpg', '손흥민43.png', '손흥민44.jpg', '손흥민45.jpg', '손흥민46.jpg', '손흥민47.jpg', '손흥민48.jpeg', '손흥민49.jpg', '손흥민5.jpeg', '손흥민50.jpg', '손흥민51.jpg', '손흥민52.jpg', '손흥민53.jpg', '손흥민54.jpg', '손흥민55.jpg', '손흥민56.jpg', '손흥민57.jpg', '손흥민58.jpg', '손흥민59.jpg', '손흥민6.jpg', '손흥민60.jpg', '손흥민61.jpg', '손흥민62.jpg', '손흥민63.jpg', '손흥민64.jpg', '손흥민65.jpg', '손흥민66.jpg', '손흥민67.jpg', '손흥민68.jpg', '손흥민69.jpg', '손흥민7.jpg', '손흥민70.jpg', '손흥민71.jpg', '손흥민72.jpg', '손흥민73.jpg', '손흥민74.jpg', '손흥민75.jpg', '손흥민76.jpg', '손흥민77.jpg', '손흥민78.jpg', '손흥민79.jpg', '손흥민8.png', '손흥민80.jpg', '손흥민81.jpg', '손흥민82.jpg', '손흥민83.jpg', '손흥민84.jpg', '손흥민85.jpg', '손흥민86.jpg', '손흥민87.jpg', '손흥민88.jpg', '손흥민89.jpg', '손흥민9.jpg', '손흥민90.jpg', '손흥민91.jpg', '손흥민92.jpg', '손흥민93.jpg', '손흥민94.jpg', '손흥민95.jpg', '손흥민96.jpg', '손흥민97.jpg', '손흥민98.jpg', '손흥민99.jpg']\n",
      "압축완료\n"
     ]
    }
   ],
   "source": [
    "from selenium import webdriver \n",
    "from selenium.webdriver.common.keys import Keys\n",
    "import time\n",
    "from tqdm import tqdm\n",
    "\n",
    "keyword = input(\"수집할 키워드를 입력하세요 : \")\n",
    "\n",
    "#웹접속\n",
    "print(\"접속중\")\n",
    "driver = webdriver.Chrome('./chromedriver.exe')\n",
    "driver.implicitly_wait(30)\n",
    "\n",
    "url = \"https://search.naver.com/search.naver?where=image&sm=tab_jum&query={}\".format(keyword)\n",
    "driver.get(url)\n",
    "\n",
    "#페이지 스크롤 다운\n",
    "body = driver.find_element_by_css_selector(\"body\")\n",
    "for i in range(3):\n",
    "    body.send_keys(Keys.PAGE_DOWN)\n",
    "    time.sleep(1)\n",
    "\n",
    "    \n",
    "#이미지 링크 수집\n",
    "imgs = driver.find_elements_by_css_selector(\"img._img\")\n",
    "result = []\n",
    "for img in tqdm(imgs):\n",
    "    if \"http\" in (img.get_attribute(\"src\")):\n",
    "        result.append(img.get_attribute(\"src\"))\n",
    "        \n",
    "# print(result)\n",
    "\n",
    "#크롬창 자동꺼짐\n",
    "driver.close()\n",
    "print(\"수집완료\")\n",
    "\n",
    "#폴더 생성\n",
    "print(\"폴더생성\")\n",
    "import os\n",
    "if not os.path.isdir(\"./{}\".format(keyword)):\n",
    "    os.mkdir(\"./{}\".format(keyword))\n",
    "    \n",
    "    \n",
    "#다운로드\n",
    "print(\"다운로드중...\")\n",
    "from urllib.request import urlretrieve\n",
    "for index, link in tqdm(enumerate(result)):       \n",
    "    start = link.rfind(\".\") #뒤쪽부터 검사\n",
    "    end = link.rfind(\"&\")\n",
    "    # print(result[0][start:end])\n",
    "    filetype = link[start:end]\n",
    "    \n",
    "    urlretrieve(link,\"./{}/{}{}{}\".format(keyword,keyword,index,filetype))\n",
    "#     time.sleep(1)\n",
    "    \n",
    "print(\"다운로드 완료\")\n",
    "\n",
    "#압축 - 메일\n",
    "import zipfile\n",
    "zip_file = zipfile.ZipFile(\"./{}.zip\".format(keyword),\"w\")\n",
    "\n",
    "print(os.listdir(\"./{}\".format(keyword)))\n",
    "for image in os.listdir(\"./{}\".format(keyword)):\n",
    "    zip_file.write(\"./{}/{}\".format(keyword,image), compress_type=zipfile.ZIP_DEFLATED)\n",
    "zip_file.close()\n",
    "print(\"압축완료\")"
   ]
  },
  {
   "cell_type": "code",
   "execution_count": null,
   "metadata": {},
   "outputs": [],
   "source": []
  },
  {
   "cell_type": "code",
   "execution_count": null,
   "metadata": {},
   "outputs": [],
   "source": []
  }
 ],
 "metadata": {
  "kernelspec": {
   "display_name": "Python 3",
   "language": "python",
   "name": "python3"
  },
  "language_info": {
   "codemirror_mode": {
    "name": "ipython",
    "version": 3
   },
   "file_extension": ".py",
   "mimetype": "text/x-python",
   "name": "python",
   "nbconvert_exporter": "python",
   "pygments_lexer": "ipython3",
   "version": "3.8.3"
  }
 },
 "nbformat": 4,
 "nbformat_minor": 4
}
